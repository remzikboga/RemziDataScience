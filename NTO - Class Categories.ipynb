{
 "cells": [
  {
   "cell_type": "code",
   "execution_count": 215,
   "metadata": {},
   "outputs": [
    {
     "name": "stdout",
     "output_type": "stream",
     "text": [
      "Loaded\n"
     ]
    }
   ],
   "source": [
    "%matplotlib inline\n",
    "import numpy as np\n",
    "import scipy as sp\n",
    "import matplotlib as mpl\n",
    "import matplotlib.cm as cm\n",
    "from matplotlib.colors import ListedColormap\n",
    "import matplotlib.pyplot as plt\n",
    "import pandas as pd\n",
    "pd.set_option('display.width', 200)\n",
    "pd.set_option('display.max_columns', 50)\n",
    "pd.set_option('display.notebook_repr_html', True)\n",
    "import seaborn as sns\n",
    "sns.set_style(\"whitegrid\")\n",
    "sns.set_context(\"poster\")\n",
    "import sklearn.model_selection\n",
    "\n",
    "\n",
    "c0=sns.color_palette()[0]\n",
    "c1=sns.color_palette()[1]\n",
    "c2=sns.color_palette()[2]\n",
    "\n",
    "cmap_light = ListedColormap(['#FFAAAA', '#AAFFAA', '#AAAAFF'])\n",
    "cmap_bold = ListedColormap(['#FF0000', '#00FF00', '#0000FF'])\n",
    "cm = plt.cm.RdBu\n",
    "cm_bright = ListedColormap(['#FF0000', '#0000FF'])\n",
    "\n",
    "def points_plot(ax, Xtr, Xte, ytr, yte, clf, mesh=True, colorscale=cmap_light, \n",
    "                cdiscrete=cmap_bold, alpha=0.1, psize=10, zfunc=False, predicted=False):\n",
    "    h = .02\n",
    "    X=np.concatenate((Xtr, Xte))\n",
    "    x_min, x_max = X[:, 0].min() - .5, X[:, 0].max() + .5\n",
    "    y_min, y_max = X[:, 1].min() - .5, X[:, 1].max() + .5\n",
    "    xx, yy = np.meshgrid(np.linspace(x_min, x_max, 100),\n",
    "                         np.linspace(y_min, y_max, 100))\n",
    "\n",
    "    #plt.figure(figsize=(10,6))\n",
    "    if zfunc:\n",
    "        p0 = clf.predict_proba(np.c_[xx.ravel(), yy.ravel()])[:, 0]\n",
    "        p1 = clf.predict_proba(np.c_[xx.ravel(), yy.ravel()])[:, 1]\n",
    "        Z=zfunc(p0, p1)\n",
    "    else:\n",
    "        Z = clf.predict(np.c_[xx.ravel(), yy.ravel()])\n",
    "    ZZ = Z.reshape(xx.shape)\n",
    "    if mesh:\n",
    "        plt.pcolormesh(xx, yy, ZZ, cmap=cmap_light, alpha=alpha, axes=ax)\n",
    "    if predicted:\n",
    "        showtr = clf.predict(Xtr)\n",
    "        showte = clf.predict(Xte)\n",
    "    else:\n",
    "        showtr = ytr\n",
    "        showte = yte\n",
    "    ax.scatter(Xtr[:, 0], Xtr[:, 1], c=showtr-1, cmap=cmap_bold, \n",
    "               s=psize, alpha=alpha,edgecolor=\"k\")\n",
    "    # and testing points\n",
    "    ax.scatter(Xte[:, 0], Xte[:, 1], c=showte-1, cmap=cmap_bold, \n",
    "               alpha=alpha, marker=\"s\", s=psize+10)\n",
    "    ax.set_xlim(xx.min(), xx.max())\n",
    "    ax.set_ylim(yy.min(), yy.max())\n",
    "    return ax,xx,yy\n",
    "\n",
    "def points_plot_prob(ax, Xtr, Xte, ytr, yte, clf, colorscale=cmap_light, \n",
    "                     cdiscrete=cmap_bold, ccolor=cm, psize=10, alpha=0.1):\n",
    "    ax,xx,yy = points_plot(ax, Xtr, Xte, ytr, yte, clf, mesh=False, \n",
    "                           colorscale=colorscale, cdiscrete=cdiscrete, \n",
    "                           psize=psize, alpha=alpha, predicted=True) \n",
    "    Z = clf.predict_proba(np.c_[xx.ravel(), yy.ravel()])[:, 1]\n",
    "    Z = Z.reshape(xx.shape)\n",
    "    plt.contourf(xx, yy, Z, cmap=ccolor, alpha=.2, axes=ax)\n",
    "    cs2 = plt.contour(xx, yy, Z, cmap=ccolor, alpha=.6, axes=ax)\n",
    "    plt.clabel(cs2, fmt = '%2.1f', colors = 'k', fontsize=14, axes=ax)\n",
    "    return ax \n",
    "\n",
    "print(\"Loaded\")"
   ]
  },
  {
   "cell_type": "code",
   "execution_count": 216,
   "metadata": {},
   "outputs": [],
   "source": [
    "data = pd.read_csv(\"data/NNLM_Courses7.csv\", encoding='latin1')"
   ]
  },
  {
   "cell_type": "code",
   "execution_count": 217,
   "metadata": {},
   "outputs": [
    {
     "data": {
      "text/html": [
       "<div>\n",
       "<style scoped>\n",
       "    .dataframe tbody tr th:only-of-type {\n",
       "        vertical-align: middle;\n",
       "    }\n",
       "\n",
       "    .dataframe tbody tr th {\n",
       "        vertical-align: top;\n",
       "    }\n",
       "\n",
       "    .dataframe thead th {\n",
       "        text-align: right;\n",
       "    }\n",
       "</style>\n",
       "<table border=\"1\" class=\"dataframe\">\n",
       "  <thead>\n",
       "    <tr style=\"text-align: right;\">\n",
       "      <th></th>\n",
       "      <th>title</th>\n",
       "      <th>health_care_providers</th>\n",
       "      <th>hospital_libraries</th>\n",
       "      <th>nlm_resources</th>\n",
       "      <th>rdm</th>\n",
       "      <th>public_health</th>\n",
       "      <th>pubmed</th>\n",
       "      <th>aou</th>\n",
       "      <th>consumer_health</th>\n",
       "      <th>public_libraries</th>\n",
       "      <th>general_public</th>\n",
       "      <th>community_engagement_outreach</th>\n",
       "      <th>health_science_libraries</th>\n",
       "      <th>bioinformatics</th>\n",
       "      <th>ce_category</th>\n",
       "      <th>ce_eligibity</th>\n",
       "      <th>class_retired</th>\n",
       "      <th>published</th>\n",
       "    </tr>\n",
       "  </thead>\n",
       "  <tbody>\n",
       "    <tr>\n",
       "      <th>0</th>\n",
       "      <td>A Bird's Eye View of Health Data Standards</td>\n",
       "      <td>yes</td>\n",
       "      <td>yes</td>\n",
       "      <td>yes</td>\n",
       "      <td>yes</td>\n",
       "      <td>no</td>\n",
       "      <td>no</td>\n",
       "      <td>no</td>\n",
       "      <td>no</td>\n",
       "      <td>no</td>\n",
       "      <td>no</td>\n",
       "      <td>no</td>\n",
       "      <td>no</td>\n",
       "      <td>no</td>\n",
       "      <td>NaN</td>\n",
       "      <td>yes</td>\n",
       "      <td>no</td>\n",
       "      <td>yes</td>\n",
       "    </tr>\n",
       "    <tr>\n",
       "      <th>1</th>\n",
       "      <td>A Glimpse at the Public Health Digital Library...</td>\n",
       "      <td>no</td>\n",
       "      <td>no</td>\n",
       "      <td>no</td>\n",
       "      <td>no</td>\n",
       "      <td>yes</td>\n",
       "      <td>no</td>\n",
       "      <td>no</td>\n",
       "      <td>no</td>\n",
       "      <td>no</td>\n",
       "      <td>no</td>\n",
       "      <td>no</td>\n",
       "      <td>no</td>\n",
       "      <td>no</td>\n",
       "      <td>NaN</td>\n",
       "      <td>no</td>\n",
       "      <td>no</td>\n",
       "      <td>yes</td>\n",
       "    </tr>\n",
       "    <tr>\n",
       "      <th>2</th>\n",
       "      <td>A New PubMed: Highlights for Information Profe...</td>\n",
       "      <td>no</td>\n",
       "      <td>no</td>\n",
       "      <td>no</td>\n",
       "      <td>no</td>\n",
       "      <td>no</td>\n",
       "      <td>yes</td>\n",
       "      <td>no</td>\n",
       "      <td>no</td>\n",
       "      <td>NaN</td>\n",
       "      <td>no</td>\n",
       "      <td>no</td>\n",
       "      <td>no</td>\n",
       "      <td>no</td>\n",
       "      <td>NaN</td>\n",
       "      <td>yes</td>\n",
       "      <td>no</td>\n",
       "      <td>yes</td>\n",
       "    </tr>\n",
       "    <tr>\n",
       "      <th>3</th>\n",
       "      <td>ABCs of DNA: Unraveling the Mystery of Genetic...</td>\n",
       "      <td>no</td>\n",
       "      <td>no</td>\n",
       "      <td>no</td>\n",
       "      <td>no</td>\n",
       "      <td>no</td>\n",
       "      <td>no</td>\n",
       "      <td>no</td>\n",
       "      <td>yes</td>\n",
       "      <td>yes</td>\n",
       "      <td>no</td>\n",
       "      <td>no</td>\n",
       "      <td>no</td>\n",
       "      <td>no</td>\n",
       "      <td>CHIS</td>\n",
       "      <td>yes</td>\n",
       "      <td>no</td>\n",
       "      <td>yes</td>\n",
       "    </tr>\n",
       "    <tr>\n",
       "      <th>4</th>\n",
       "      <td>Activate, Collaborate, and Educate: Health Out...</td>\n",
       "      <td>no</td>\n",
       "      <td>no</td>\n",
       "      <td>no</td>\n",
       "      <td>no</td>\n",
       "      <td>yes</td>\n",
       "      <td>no</td>\n",
       "      <td>yes</td>\n",
       "      <td>yes</td>\n",
       "      <td>no</td>\n",
       "      <td>no</td>\n",
       "      <td>no</td>\n",
       "      <td>no</td>\n",
       "      <td>no</td>\n",
       "      <td>CHIS</td>\n",
       "      <td>yes</td>\n",
       "      <td>no</td>\n",
       "      <td>yes</td>\n",
       "    </tr>\n",
       "    <tr>\n",
       "      <th>5</th>\n",
       "      <td>Are You Ready? Essential Disaster Health Infor...</td>\n",
       "      <td>no</td>\n",
       "      <td>no</td>\n",
       "      <td>no</td>\n",
       "      <td>no</td>\n",
       "      <td>yes</td>\n",
       "      <td>no</td>\n",
       "      <td>no</td>\n",
       "      <td>yes</td>\n",
       "      <td>yes</td>\n",
       "      <td>no</td>\n",
       "      <td>yes</td>\n",
       "      <td>no</td>\n",
       "      <td>no</td>\n",
       "      <td>CHIS, DIS</td>\n",
       "      <td>yes</td>\n",
       "      <td>no</td>\n",
       "      <td>yes</td>\n",
       "    </tr>\n",
       "    <tr>\n",
       "      <th>6</th>\n",
       "      <td>Astronaut Health: Health Information Resources...</td>\n",
       "      <td>no</td>\n",
       "      <td>no</td>\n",
       "      <td>no</td>\n",
       "      <td>no</td>\n",
       "      <td>no</td>\n",
       "      <td>no</td>\n",
       "      <td>no</td>\n",
       "      <td>yes</td>\n",
       "      <td>yes</td>\n",
       "      <td>no</td>\n",
       "      <td>no</td>\n",
       "      <td>no</td>\n",
       "      <td>no</td>\n",
       "      <td>NaN</td>\n",
       "      <td>yes</td>\n",
       "      <td>no</td>\n",
       "      <td>yes</td>\n",
       "    </tr>\n",
       "    <tr>\n",
       "      <th>7</th>\n",
       "      <td>Beginner Public Health Digital Library Quick S...</td>\n",
       "      <td>NaN</td>\n",
       "      <td>NaN</td>\n",
       "      <td>NaN</td>\n",
       "      <td>NaN</td>\n",
       "      <td>NaN</td>\n",
       "      <td>NaN</td>\n",
       "      <td>NaN</td>\n",
       "      <td>NaN</td>\n",
       "      <td>NaN</td>\n",
       "      <td>NaN</td>\n",
       "      <td>NaN</td>\n",
       "      <td>NaN</td>\n",
       "      <td>NaN</td>\n",
       "      <td>NaN</td>\n",
       "      <td>NaN</td>\n",
       "      <td>NaN</td>\n",
       "      <td>yes</td>\n",
       "    </tr>\n",
       "    <tr>\n",
       "      <th>8</th>\n",
       "      <td>Beginner Public Health Digital Library Quick S...</td>\n",
       "      <td>NaN</td>\n",
       "      <td>NaN</td>\n",
       "      <td>NaN</td>\n",
       "      <td>NaN</td>\n",
       "      <td>NaN</td>\n",
       "      <td>NaN</td>\n",
       "      <td>NaN</td>\n",
       "      <td>NaN</td>\n",
       "      <td>NaN</td>\n",
       "      <td>NaN</td>\n",
       "      <td>NaN</td>\n",
       "      <td>NaN</td>\n",
       "      <td>NaN</td>\n",
       "      <td>NaN</td>\n",
       "      <td>NaN</td>\n",
       "      <td>NaN</td>\n",
       "      <td>yes</td>\n",
       "    </tr>\n",
       "    <tr>\n",
       "      <th>9</th>\n",
       "      <td>Beyond an Apple a Day: Providing Consumer Heal...</td>\n",
       "      <td>yes</td>\n",
       "      <td>no</td>\n",
       "      <td>no</td>\n",
       "      <td>no</td>\n",
       "      <td>no</td>\n",
       "      <td>no</td>\n",
       "      <td>no</td>\n",
       "      <td>yes</td>\n",
       "      <td>yes</td>\n",
       "      <td>no</td>\n",
       "      <td>no</td>\n",
       "      <td>no</td>\n",
       "      <td>no</td>\n",
       "      <td>CHIS</td>\n",
       "      <td>yes</td>\n",
       "      <td>no</td>\n",
       "      <td>yes</td>\n",
       "    </tr>\n",
       "  </tbody>\n",
       "</table>\n",
       "</div>"
      ],
      "text/plain": [
       "                                               title health_care_providers hospital_libraries nlm_resources  rdm public_health pubmed   aou consumer_health public_libraries general_public  \\\n",
       "0         A Bird's Eye View of Health Data Standards                  yes                yes            yes  yes            no     no   no               no               no             no   \n",
       "1  A Glimpse at the Public Health Digital Library...                   no                 no            no    no          yes      no   no               no               no             no   \n",
       "2  A New PubMed: Highlights for Information Profe...                   no                 no            no    no            no    yes   no               no              NaN             no   \n",
       "3  ABCs of DNA: Unraveling the Mystery of Genetic...                   no                 no            no    no            no     no   no              yes              yes             no   \n",
       "4  Activate, Collaborate, and Educate: Health Out...                   no                 no            no    no          yes      no  yes              yes               no             no   \n",
       "5  Are You Ready? Essential Disaster Health Infor...                   no                 no            no    no          yes      no   no              yes              yes             no   \n",
       "6  Astronaut Health: Health Information Resources...                   no                 no            no    no            no     no   no              yes              yes             no   \n",
       "7  Beginner Public Health Digital Library Quick S...                   NaN                NaN           NaN  NaN           NaN    NaN   NaN             NaN              NaN            NaN   \n",
       "8  Beginner Public Health Digital Library Quick S...                   NaN                NaN           NaN  NaN           NaN    NaN   NaN             NaN              NaN            NaN   \n",
       "9  Beyond an Apple a Day: Providing Consumer Heal...                  yes                 no            no    no            no     no   no              yes              yes             no   \n",
       "\n",
       "  community_engagement_outreach health_science_libraries bioinformatics ce_category ce_eligibity class_retired published  \n",
       "0                            no                       no             no         NaN          yes            no       yes  \n",
       "1                            no                       no             no         NaN           no            no       yes  \n",
       "2                            no                       no             no         NaN          yes            no       yes  \n",
       "3                            no                       no             no        CHIS          yes            no       yes  \n",
       "4                            no                       no             no        CHIS          yes            no       yes  \n",
       "5                           yes                       no             no   CHIS, DIS          yes            no       yes  \n",
       "6                            no                       no             no         NaN          yes            no       yes  \n",
       "7                           NaN                      NaN            NaN         NaN          NaN           NaN       yes  \n",
       "8                           NaN                      NaN            NaN         NaN          NaN           NaN       yes  \n",
       "9                            no                       no             no        CHIS          yes            no       yes  "
      ]
     },
     "execution_count": 217,
     "metadata": {},
     "output_type": "execute_result"
    }
   ],
   "source": [
    "data.head(10)"
   ]
  },
  {
   "cell_type": "code",
   "execution_count": 218,
   "metadata": {},
   "outputs": [
    {
     "data": {
      "text/plain": [
       "title                             0.000000\n",
       "health_care_providers            24.096386\n",
       "hospital_libraries               24.096386\n",
       "nlm_resources                    24.096386\n",
       "rdm                              24.096386\n",
       "public_health                    24.096386\n",
       "pubmed                           24.096386\n",
       "aou                              24.096386\n",
       "consumer_health                  24.096386\n",
       "public_libraries                 25.301205\n",
       "general_public                   22.891566\n",
       "community_engagement_outreach    24.096386\n",
       "health_science_libraries         27.710843\n",
       "bioinformatics                   57.831325\n",
       "ce_category                      67.469880\n",
       "ce_eligibity                     16.867470\n",
       "class_retired                    18.072289\n",
       "published                         0.000000\n",
       "dtype: float64"
      ]
     },
     "execution_count": 218,
     "metadata": {},
     "output_type": "execute_result"
    }
   ],
   "source": [
    "data.isnull().sum() / data.shape[0] * 100.00"
   ]
  },
  {
   "cell_type": "code",
   "execution_count": 219,
   "metadata": {},
   "outputs": [
    {
     "data": {
      "text/plain": [
       "no      31\n",
       "no      22\n",
       "NaN     20\n",
       "yes     10\n",
       "Name: health_care_providers, dtype: int64"
      ]
     },
     "execution_count": 219,
     "metadata": {},
     "output_type": "execute_result"
    }
   ],
   "source": [
    "data['health_care_providers'].value_counts(dropna=False)"
   ]
  },
  {
   "cell_type": "code",
   "execution_count": 220,
   "metadata": {},
   "outputs": [],
   "source": [
    "data = data.replace(\"no \", \"no\")"
   ]
  },
  {
   "cell_type": "code",
   "execution_count": 221,
   "metadata": {},
   "outputs": [
    {
     "data": {
      "text/plain": [
       "no      53\n",
       "NaN     20\n",
       "yes     10\n",
       "Name: health_care_providers, dtype: int64"
      ]
     },
     "execution_count": 221,
     "metadata": {},
     "output_type": "execute_result"
    }
   ],
   "source": [
    "data['health_care_providers'].value_counts(dropna=False)"
   ]
  },
  {
   "cell_type": "code",
   "execution_count": 222,
   "metadata": {},
   "outputs": [
    {
     "data": {
      "text/plain": [
       "no      47\n",
       "NaN     20\n",
       "yes     11\n",
       "yes      5\n",
       "Name: hospital_libraries, dtype: int64"
      ]
     },
     "execution_count": 222,
     "metadata": {},
     "output_type": "execute_result"
    }
   ],
   "source": [
    "data['hospital_libraries'].value_counts(dropna=False)"
   ]
  },
  {
   "cell_type": "code",
   "execution_count": 223,
   "metadata": {},
   "outputs": [],
   "source": [
    "data = data.replace(\"yes \", \"yes\")"
   ]
  },
  {
   "cell_type": "code",
   "execution_count": 224,
   "metadata": {},
   "outputs": [
    {
     "data": {
      "text/plain": [
       "no     47\n",
       "NaN    20\n",
       "yes    16\n",
       "Name: hospital_libraries, dtype: int64"
      ]
     },
     "execution_count": 224,
     "metadata": {},
     "output_type": "execute_result"
    }
   ],
   "source": [
    "data['hospital_libraries'].value_counts(dropna=False)"
   ]
  },
  {
   "cell_type": "code",
   "execution_count": 225,
   "metadata": {
    "scrolled": true
   },
   "outputs": [
    {
     "name": "stdout",
     "output_type": "stream",
     "text": [
      "no     58\n",
      "NaN    20\n",
      "yes     5\n",
      "Name: aou, dtype: int64\n",
      "no     69.879518\n",
      "NaN    24.096386\n",
      "yes     6.024096\n",
      "Name: aou, dtype: float64\n"
     ]
    },
    {
     "data": {
      "image/png": "[encoded data removed]",
      "text/plain": [
       "<Figure size 792x576 with 1 Axes>"
      ]
     },
     "metadata": {},
     "output_type": "display_data"
    }
   ],
   "source": [
    "fig, ax = plt.subplots()\n",
    "fig.set_size_inches(11, 8)\n",
    "allofuscount = data['aou'].value_counts(dropna=False)\n",
    "allofus = data['aou'].value_counts(dropna=False) / data.shape[0] * 100\n",
    "allofus.plot(kind='bar',color='#00008b')\n",
    "plt.xlabel('All of Us')\n",
    "plt.ylabel('Percentage')\n",
    "print(allofuscount)\n",
    "print(allofus)\n",
    "sns.despine()\n"
   ]
  },
  {
   "cell_type": "code",
   "execution_count": 226,
   "metadata": {},
   "outputs": [],
   "source": [
    "data = data.replace(\"bo \", \"no\")"
   ]
  },
  {
   "cell_type": "code",
   "execution_count": 227,
   "metadata": {},
   "outputs": [],
   "source": [
    "aou_classes = []\n",
    "for i in data['title']:\n",
    "    i = data['title'].loc[data['aou'] == 'yes']\n",
    "    aou_classes.append(i)\n",
    "    break\n"
   ]
  },
  {
   "cell_type": "code",
   "execution_count": 228,
   "metadata": {},
   "outputs": [
    {
     "name": "stdout",
     "output_type": "stream",
     "text": [
      "[4     Activate, Collaborate, and Educate: Health Out...\n",
      "35                          Grants and Proposal Writing\n",
      "39                                   How PubMedÎÂ Works\n",
      "55    National Library of Medicine Resources for Cit...\n",
      "65                                         PNR Partners\n",
      "Name: title, dtype: object]\n"
     ]
    }
   ],
   "source": [
    "print(aou_classes)"
   ]
  },
  {
   "cell_type": "code",
   "execution_count": 229,
   "metadata": {},
   "outputs": [],
   "source": [
    "health_care_providers = []\n",
    "for i in data['title']:\n",
    "    i = data['title'].loc[data['health_care_providers'] == 'yes']\n",
    "    health_care_providers.append(i)\n",
    "    break\n",
    "\n"
   ]
  },
  {
   "cell_type": "code",
   "execution_count": 230,
   "metadata": {},
   "outputs": [
    {
     "name": "stdout",
     "output_type": "stream",
     "text": [
      "[0            A Bird's Eye View of Health Data Standards\n",
      "9     Beyond an Apple a Day: Providing Consumer Heal...\n",
      "10    Beyond the Binary: Health Resources for Sexual...\n",
      "14    Chemicals, Drugs and Genetics: Searching PubMe...\n",
      "17    ClinicalTrials.gov: Results Reporting, Unique ...\n",
      "30    Food for Thought: Exploring Nutrition Informat...\n",
      "32    From Beyond Our Borders: Providing Multilingua...\n",
      "39                                   How PubMedÎÂ Works\n",
      "48                                   MAR Special Topics\n",
      "68    PubMed and Beyond: Clinical Resources from the...\n",
      "Name: title, dtype: object]\n"
     ]
    }
   ],
   "source": [
    "print(health_care_providers)\n"
   ]
  },
  {
   "cell_type": "code",
   "execution_count": 231,
   "metadata": {},
   "outputs": [],
   "source": [
    "hospital_libraries = []\n",
    "for i in data['title']:\n",
    "    i = data['title'].loc[data['hospital_libraries'] == 'yes']\n",
    "    hospital_libraries.append(i)\n",
    "    break\n",
    "\n"
   ]
  },
  {
   "cell_type": "code",
   "execution_count": 232,
   "metadata": {},
   "outputs": [
    {
     "name": "stdout",
     "output_type": "stream",
     "text": [
      "[0            A Bird's Eye View of Health Data Standards\n",
      "10    Beyond the Binary: Health Resources for Sexual...\n",
      "16    Clinical Information, Librarians and the NLM: ...\n",
      "17    ClinicalTrials.gov: Results Reporting, Unique ...\n",
      "20    Dissemination and Disasters: Using Information...\n",
      "23                        Drug Terminologies and Rxnorm\n",
      "24    Effective Health Communication and Health Lite...\n",
      "30    Food for Thought: Exploring Nutrition Informat...\n",
      "32    From Beyond Our Borders: Providing Multilingua...\n",
      "35                          Grants and Proposal Writing\n",
      "39                                   How PubMedÎÂ Works\n",
      "48                                   MAR Special Topics\n",
      "56                             NER Hospital Librarians \n",
      "57                 New England e-Science Webinar Series\n",
      "68    PubMed and Beyond: Clinical Resources from the...\n",
      "81                    Wellness in the Library Workplace\n",
      "Name: title, dtype: object]\n"
     ]
    }
   ],
   "source": [
    "print(hospital_libraries)"
   ]
  },
  {
   "cell_type": "code",
   "execution_count": 233,
   "metadata": {},
   "outputs": [],
   "source": [
    "nlm_resources = []\n",
    "for i in data['title']:\n",
    "    i = data['title'].loc[data['nlm_resources'] == 'yes']\n",
    "    nlm_resources.append(i)\n",
    "    break"
   ]
  },
  {
   "cell_type": "code",
   "execution_count": 234,
   "metadata": {},
   "outputs": [
    {
     "name": "stdout",
     "output_type": "stream",
     "text": [
      "[0            A Bird's Eye View of Health Data Standards\n",
      "17    ClinicalTrials.gov: Results Reporting, Unique ...\n",
      "18    Combatting Information Fatigue: Health Informa...\n",
      "20    Dissemination and Disasters: Using Information...\n",
      "29                  Finding and Using Health Statistics\n",
      "30    Food for Thought: Exploring Nutrition Informat...\n",
      "32    From Beyond Our Borders: Providing Multilingua...\n",
      "35                          Grants and Proposal Writing\n",
      "39                                   How PubMedÎÂ Works\n",
      "45                       LinkOut Consolidation Webinars\n",
      "48                                   MAR Special Topics\n",
      "55    National Library of Medicine Resources for Cit...\n",
      "56                             NER Hospital Librarians \n",
      "57                 New England e-Science Webinar Series\n",
      "60                                  NNLM Resource Picks\n",
      "62    Online Resources to Support Evidence-Based Pra...\n",
      "63    Owning Your Health: Wellness Resources for You...\n",
      "68    PubMed and Beyond: Clinical Resources from the...\n",
      "69                    PubMed for Librarians - On Demand\n",
      "75                          Serving Diverse Communities\n",
      "79    Trusted Health Resources for Parents and Careg...\n",
      "81                    Wellness in the Library Workplace\n",
      "Name: title, dtype: object]\n"
     ]
    }
   ],
   "source": [
    "print(nlm_resources)"
   ]
  },
  {
   "cell_type": "code",
   "execution_count": 235,
   "metadata": {},
   "outputs": [],
   "source": [
    "rdm = []\n",
    "for i in data['title']:\n",
    "    i = data['title'].loc[data['rdm'] == 'yes']\n",
    "    rdm.append(i)\n",
    "    break"
   ]
  },
  {
   "cell_type": "code",
   "execution_count": 236,
   "metadata": {},
   "outputs": [
    {
     "name": "stdout",
     "output_type": "stream",
     "text": [
      "[0            A Bird's Eye View of Health Data Standards\n",
      "16    Clinical Information, Librarians and the NLM: ...\n",
      "19    Cool Creative Communications: Dazzling Data Vi...\n",
      "23                        Drug Terminologies and Rxnorm\n",
      "29                  Finding and Using Health Statistics\n",
      "32    From Beyond Our Borders: Providing Multilingua...\n",
      "39                                   How PubMedÎÂ Works\n",
      "41    Insider's Guide to Accessing NLM Data: EDirect...\n",
      "46    Making Sense of Numbers: Understanding Risks a...\n",
      "59         NNLM Research Data Management Webinar Series\n",
      "65                                         PNR Partners\n",
      "Name: title, dtype: object]\n"
     ]
    }
   ],
   "source": [
    "print(rdm)"
   ]
  },
  {
   "cell_type": "code",
   "execution_count": 237,
   "metadata": {},
   "outputs": [],
   "source": [
    "public_health = []\n",
    "for i in data['title']:\n",
    "    i = data['title'].loc[data['public_health'] == 'yes']\n",
    "    public_health.append(i)\n",
    "    break"
   ]
  },
  {
   "cell_type": "code",
   "execution_count": 238,
   "metadata": {},
   "outputs": [
    {
     "name": "stdout",
     "output_type": "stream",
     "text": [
      "[1     A Glimpse at the Public Health Digital Library...\n",
      "4     Activate, Collaborate, and Educate: Health Out...\n",
      "5     Are You Ready? Essential Disaster Health Infor...\n",
      "10    Beyond the Binary: Health Resources for Sexual...\n",
      "18    Combatting Information Fatigue: Health Informa...\n",
      "20    Dissemination and Disasters: Using Information...\n",
      "29                  Finding and Using Health Statistics\n",
      "32    From Beyond Our Borders: Providing Multilingua...\n",
      "33    From Problem to Prevention: Evidence-Based Pub...\n",
      "36                   Graphic Medicine: Beyond the Books\n",
      "39                                   How PubMedÎÂ Works\n",
      "43    Introduction to Health Reference: Ethics and B...\n",
      "48                                   MAR Special Topics\n",
      "62    Online Resources to Support Evidence-Based Pra...\n",
      "75                          Serving Diverse Communities\n",
      "76             Set up your outside tool to use the PHDL\n",
      "78    True north: Navigating Your Way to Freely Avai...\n",
      "Name: title, dtype: object]\n"
     ]
    }
   ],
   "source": [
    "print(public_health)"
   ]
  },
  {
   "cell_type": "code",
   "execution_count": 239,
   "metadata": {},
   "outputs": [],
   "source": [
    "pubmed = []\n",
    "for i in data['title']:\n",
    "    i = data['title'].loc[data['pubmed'] == 'yes']\n",
    "    pubmed.append(i)\n",
    "    break"
   ]
  },
  {
   "cell_type": "code",
   "execution_count": 240,
   "metadata": {},
   "outputs": [
    {
     "name": "stdout",
     "output_type": "stream",
     "text": [
      "[2     A New PubMed: Highlights for Information Profe...\n",
      "10    Beyond the Binary: Health Resources for Sexual...\n",
      "13                                            Boost Box\n",
      "33    From Problem to Prevention: Evidence-Based Pub...\n",
      "50                    MeSH Changes and PubMed Searching\n",
      "62    Online Resources to Support Evidence-Based Pra...\n",
      "69                    PubMed for Librarians - On Demand\n",
      "Name: title, dtype: object]\n"
     ]
    }
   ],
   "source": [
    "print(pubmed)"
   ]
  },
  {
   "cell_type": "code",
   "execution_count": 241,
   "metadata": {},
   "outputs": [],
   "source": [
    "public_libraries = []\n",
    "for i in data['title']:\n",
    "    i = data['title'].loc[data['public_libraries'] == 'yes']\n",
    "    public_libraries.append(i)\n",
    "    break"
   ]
  },
  {
   "cell_type": "code",
   "execution_count": 242,
   "metadata": {},
   "outputs": [
    {
     "name": "stdout",
     "output_type": "stream",
     "text": [
      "[3     ABCs of DNA: Unraveling the Mystery of Genetic...\n",
      "5     Are You Ready? Essential Disaster Health Infor...\n",
      "6     Astronaut Health: Health Information Resources...\n",
      "9     Beyond an Apple a Day: Providing Consumer Heal...\n",
      "10    Beyond the Binary: Health Resources for Sexual...\n",
      "17    ClinicalTrials.gov: Results Reporting, Unique ...\n",
      "31    From A(ddiction) to Z(its): Supporting Teens w...\n",
      "32    From Beyond Our Borders: Providing Multilingua...\n",
      "35                          Grants and Proposal Writing\n",
      "36                   Graphic Medicine: Beyond the Books\n",
      "37    Health and Wellness @ the Library: The Essenti...\n",
      "38                         Health Statistics on the Web\n",
      "44                                  Kernel of Knowledge\n",
      "46    Making Sense of Numbers: Understanding Risks a...\n",
      "55    National Library of Medicine Resources for Cit...\n",
      "65                                         PNR Partners\n",
      "75                          Serving Diverse Communities\n",
      "77    Stand Up for Health: Health and Wellness Servi...\n",
      "79    Trusted Health Resources for Parents and Careg...\n",
      "80    Understanding the Opioid Crisis: Where do I be...\n",
      "81                    Wellness in the Library Workplace\n",
      "Name: title, dtype: object]\n"
     ]
    }
   ],
   "source": [
    "print(public_libraries)"
   ]
  },
  {
   "cell_type": "code",
   "execution_count": 243,
   "metadata": {},
   "outputs": [],
   "source": [
    "general_public = []\n",
    "for i in data['title']:\n",
    "    i = data['title'].loc[data['general_public'] == 'yes']\n",
    "    general_public.append(i)\n",
    "    break"
   ]
  },
  {
   "cell_type": "code",
   "execution_count": 244,
   "metadata": {},
   "outputs": [
    {
     "name": "stdout",
     "output_type": "stream",
     "text": [
      "[20    Dissemination and Disasters: Using Information...\n",
      "32    From Beyond Our Borders: Providing Multilingua...\n",
      "39                                   How PubMedÎÂ Works\n",
      "43    Introduction to Health Reference: Ethics and B...\n",
      "48                                   MAR Special Topics\n",
      "55    National Library of Medicine Resources for Cit...\n",
      "79    Trusted Health Resources for Parents and Careg...\n",
      "Name: title, dtype: object]\n"
     ]
    }
   ],
   "source": [
    "print(general_public)"
   ]
  },
  {
   "cell_type": "code",
   "execution_count": 245,
   "metadata": {},
   "outputs": [],
   "source": [
    "consumer_health = []\n",
    "for i in data['title']:\n",
    "    i = data['title'].loc[data['consumer_health'] == 'yes']\n",
    "    consumer_health.append(i)\n",
    "    break"
   ]
  },
  {
   "cell_type": "code",
   "execution_count": 246,
   "metadata": {},
   "outputs": [
    {
     "name": "stdout",
     "output_type": "stream",
     "text": [
      "[3     ABCs of DNA: Unraveling the Mystery of Genetic...\n",
      "4     Activate, Collaborate, and Educate: Health Out...\n",
      "5     Are You Ready? Essential Disaster Health Infor...\n",
      "6     Astronaut Health: Health Information Resources...\n",
      "9     Beyond an Apple a Day: Providing Consumer Heal...\n",
      "10    Beyond the Binary: Health Resources for Sexual...\n",
      "17    ClinicalTrials.gov: Results Reporting, Unique ...\n",
      "18    Combatting Information Fatigue: Health Informa...\n",
      "24    Effective Health Communication and Health Lite...\n",
      "30    Food for Thought: Exploring Nutrition Informat...\n",
      "31    From A(ddiction) to Z(its): Supporting Teens w...\n",
      "34    Getting the Right Information to Patients Usin...\n",
      "37    Health and Wellness @ the Library: The Essenti...\n",
      "39                                   How PubMedÎÂ Works\n",
      "46    Making Sense of Numbers: Understanding Risks a...\n",
      "48                                   MAR Special Topics\n",
      "54    More Than a Bandage: Health Information Resour...\n",
      "55    National Library of Medicine Resources for Cit...\n",
      "61    Nursing on the Net: Health Care Resources You ...\n",
      "63    Owning Your Health: Wellness Resources for You...\n",
      "65                                         PNR Partners\n",
      "75                          Serving Diverse Communities\n",
      "79    Trusted Health Resources for Parents and Careg...\n",
      "80    Understanding the Opioid Crisis: Where do I be...\n",
      "82    Will Duct Tape Cure My Warts? Examining Comple...\n",
      "Name: title, dtype: object]\n"
     ]
    }
   ],
   "source": [
    "print(consumer_health)"
   ]
  },
  {
   "cell_type": "code",
   "execution_count": 247,
   "metadata": {},
   "outputs": [],
   "source": [
    "community_engagement_outreach = []\n",
    "for i in data['title']:\n",
    "    i = data['title'].loc[data['community_engagement_outreach'] == 'yes']\n",
    "    community_engagement_outreach.append(i)\n",
    "    break"
   ]
  },
  {
   "cell_type": "code",
   "execution_count": 248,
   "metadata": {},
   "outputs": [
    {
     "name": "stdout",
     "output_type": "stream",
     "text": [
      "[5     Are You Ready? Essential Disaster Health Infor...\n",
      "10    Beyond the Binary: Health Resources for Sexual...\n",
      "17    ClinicalTrials.gov: Results Reporting, Unique ...\n",
      "20    Dissemination and Disasters: Using Information...\n",
      "25                   EvalBasics 1: Community Assessment\n",
      "26       EvalBasics 2: Planning Outcomes-Based Programs\n",
      "27    EvalBasics 3: Data Collection for Program Eval...\n",
      "28    EvalBasics 4: Data Analysis for Program Evalua...\n",
      "32    From Beyond Our Borders: Providing Multilingua...\n",
      "33    From Problem to Prevention: Evidence-Based Pub...\n",
      "35                          Grants and Proposal Writing\n",
      "36                   Graphic Medicine: Beyond the Books\n",
      "48                                   MAR Special Topics\n",
      "55    National Library of Medicine Resources for Cit...\n",
      "75                          Serving Diverse Communities\n",
      "Name: title, dtype: object]\n"
     ]
    }
   ],
   "source": [
    "print(community_engagement_outreach)"
   ]
  },
  {
   "cell_type": "code",
   "execution_count": 249,
   "metadata": {},
   "outputs": [],
   "source": [
    "health_science_libraries = []\n",
    "for i in data['title']:\n",
    "    i = data['title'].loc[data['health_science_libraries'] == 'yes']\n",
    "    health_science_libraries.append(i)\n",
    "    break"
   ]
  },
  {
   "cell_type": "code",
   "execution_count": 250,
   "metadata": {},
   "outputs": [
    {
     "name": "stdout",
     "output_type": "stream",
     "text": [
      "[10    Beyond the Binary: Health Resources for Sexual...\n",
      "14    Chemicals, Drugs and Genetics: Searching PubMe...\n",
      "17    ClinicalTrials.gov: Results Reporting, Unique ...\n",
      "18    Combatting Information Fatigue: Health Informa...\n",
      "20    Dissemination and Disasters: Using Information...\n",
      "23                        Drug Terminologies and Rxnorm\n",
      "24    Effective Health Communication and Health Lite...\n",
      "30    Food for Thought: Exploring Nutrition Informat...\n",
      "32    From Beyond Our Borders: Providing Multilingua...\n",
      "33    From Problem to Prevention: Evidence-Based Pub...\n",
      "35                          Grants and Proposal Writing\n",
      "36                   Graphic Medicine: Beyond the Books\n",
      "39                                   How PubMedÎÂ Works\n",
      "43    Introduction to Health Reference: Ethics and B...\n",
      "48                                   MAR Special Topics\n",
      "81                    Wellness in the Library Workplace\n",
      "Name: title, dtype: object]\n"
     ]
    }
   ],
   "source": [
    "print(health_science_libraries)"
   ]
  },
  {
   "cell_type": "code",
   "execution_count": 251,
   "metadata": {},
   "outputs": [],
   "source": [
    "bioinformatics = []\n",
    "for i in data['title']:\n",
    "    i = data['title'].loc[data['bioinformatics'] == 'yes']\n",
    "    bioinformatics.append(i)\n",
    "    break"
   ]
  },
  {
   "cell_type": "code",
   "execution_count": 192,
   "metadata": {},
   "outputs": [
    {
     "name": "stdout",
     "output_type": "stream",
     "text": [
      "[12    Bioinformatics Education\n",
      "39          How PubMedÎÂ Works\n",
      "Name: title, dtype: object]\n"
     ]
    }
   ],
   "source": [
    "print(bioinformatics)"
   ]
  },
  {
   "cell_type": "code",
   "execution_count": 257,
   "metadata": {},
   "outputs": [
    {
     "data": {
      "text/plain": [
       "2"
      ]
     },
     "execution_count": 257,
     "metadata": {},
     "output_type": "execute_result"
    }
   ],
   "source": [
    "len(data.bioinformatics[data['bioinformatics'] == 'yes'])"
   ]
  },
  {
   "cell_type": "code",
   "execution_count": 261,
   "metadata": {},
   "outputs": [
    {
     "name": "stdout",
     "output_type": "stream",
     "text": [
      "The number of All of Us classes:  5\n",
      "The number of Bioinformatics classes:  2\n",
      "The number of Community Engagement/Outreach classes:  15\n",
      "The number of Consumer Health classes:  25\n",
      "The number of General Public classes:  7\n",
      "The number of Health Care Providers classes:  10\n",
      "The number of Health Science Libraries classes:  16\n",
      "The number of Hospital Libraries classes:  16\n",
      "The number of NLM Resources classes:  22\n",
      "The number of Public Health classes:  17\n",
      "The number of Public Libraries classes:  21\n",
      "The number of Pubmed classes:  7\n",
      "The number of Research Data Management classes:  11\n"
     ]
    }
   ],
   "source": [
    "print(\"The number of All of Us classes: \" , len(data.aou[data['aou'] == 'yes']))\n",
    "print(\"The number of Bioinformatics classes: \" , len(data.bioinformatics[data['bioinformatics'] == 'yes']))\n",
    "print(\"The number of Community Engagement/Outreach classes: \", len(data.community_engagement_outreach[data['community_engagement_outreach'] == 'yes']))\n",
    "print(\"The number of Consumer Health classes: \" , len(data.consumer_health[data['consumer_health'] == 'yes']))\n",
    "print(\"The number of General Public classes: \" , len(data.general_public[data['general_public'] == 'yes']))\n",
    "print(\"The number of Health Care Providers classes: \" , len(data.health_care_providers[data['health_care_providers'] == 'yes']))\n",
    "print(\"The number of Health Science Libraries classes: \" , len(data.health_science_libraries[data['health_science_libraries'] == 'yes']))\n",
    "print(\"The number of Hospital Libraries classes: \" , len(data.hospital_libraries[data['hospital_libraries'] == 'yes']))\n",
    "print(\"The number of NLM Resources classes: \" , len(data.nlm_resources[data['nlm_resources'] == 'yes']))\n",
    "print(\"The number of Public Health classes: \" , len(data.public_health[data['public_health'] == 'yes']))\n",
    "print(\"The number of Public Libraries classes: \" , len(data.public_libraries[data['public_libraries'] == 'yes']))\n",
    "print(\"The number of Pubmed classes: \" , len(data.pubmed[data['pubmed'] == 'yes']))\n",
    "print(\"The number of Research Data Management classes: \", len(data.rdm[data['rdm'] == 'yes']))\n"
   ]
  },
  {
   "cell_type": "code",
   "execution_count": 300,
   "metadata": {},
   "outputs": [
    {
     "name": "stdout",
     "output_type": "stream",
     "text": [
      "Percentage of All of Us classes:  0.060240963855421686\n",
      "Percentage of Bioinformatics classes:  0.024096385542168676\n",
      "Percentage of Community Engagement/Outreach classes:  0.18072289156626506\n",
      "Percentage of Consumer Health classes:  0.30120481927710846\n",
      "Percentage of General Public classes:  0.08433734939759036\n",
      "Percentage of Health Care Providers classes:  0.12048192771084337\n",
      "Percentage of Health Science Libraries classes:  0.1927710843373494\n",
      "Percentage of Hospital Libraries classes:  0.1927710843373494\n",
      "Percentage of NLM Resources classes:  0.26506024096385544\n",
      "Percentage of Public Health classes:  0.20481927710843373\n",
      "Percentage of Public Libraries classes:  0.25301204819277107\n",
      "Percentage of Pubmed classes:  0.08433734939759036\n",
      "Percentage of Research Data Management classes:  0.13253012048192772\n"
     ]
    }
   ],
   "source": [
    "print(\"Percentage of All of Us classes: \" , len(data.aou[data['aou'] == 'yes']) / len(data.title))\n",
    "print(\"Percentage of Bioinformatics classes: \" , len(data.bioinformatics[data['bioinformatics'] == 'yes']) / len(data.title))\n",
    "print(\"Percentage of Community Engagement/Outreach classes: \", len(data.community_engagement_outreach[data['community_engagement_outreach'] == 'yes'])/ len(data.title))\n",
    "print(\"Percentage of Consumer Health classes: \" , len(data.consumer_health[data['consumer_health'] == 'yes'])/ len(data.title))\n",
    "print(\"Percentage of General Public classes: \" , len(data.general_public[data['general_public'] == 'yes'])/ len(data.title))\n",
    "print(\"Percentage of Health Care Providers classes: \" , len(data.health_care_providers[data['health_care_providers'] == 'yes'])/ len(data.title))\n",
    "print(\"Percentage of Health Science Libraries classes: \" , len(data.health_science_libraries[data['health_science_libraries'] == 'yes'])/ len(data.title))\n",
    "print(\"Percentage of Hospital Libraries classes: \" , len(data.hospital_libraries[data['hospital_libraries'] == 'yes'])/ len(data.title))\n",
    "print(\"Percentage of NLM Resources classes: \" , len(data.nlm_resources[data['nlm_resources'] == 'yes'])/ len(data.title))\n",
    "print(\"Percentage of Public Health classes: \" , len(data.public_health[data['public_health'] == 'yes'])/ len(data.title))\n",
    "print(\"Percentage of Public Libraries classes: \" , len(data.public_libraries[data['public_libraries'] == 'yes'])/ len(data.title))\n",
    "print(\"Percentage of Pubmed classes: \" , len(data.pubmed[data['pubmed'] == 'yes'])/ len(data.title))\n",
    "print(\"Percentage of Research Data Management classes: \", len(data.rdm[data['rdm'] == 'yes'])/ len(data.title))"
   ]
  },
  {
   "cell_type": "code",
   "execution_count": 328,
   "metadata": {},
   "outputs": [],
   "source": [
    "AoU_Count = len(data.aou[data['aou'] == 'yes'])\n",
    "Bioinformatics_Count = len(data.bioinformatics[data['bioinformatics'] == 'yes'])\n",
    "Community_Engagement_Outreach_Count = len(data.community_engagement_outreach[data['community_engagement_outreach'] == 'yes'])\n",
    "Consumer_Health_Count= len(data.consumer_health[data['consumer_health'] == 'yes'])\n",
    "General_Public_Count=len(data.general_public[data['general_public'] == 'yes'])\n",
    "Health_Care_Providers_Count = len(data.health_care_providers[data['health_care_providers'] == 'yes'])\n",
    "Health_Science_Libraries_Count = len(data.health_science_libraries[data['health_science_libraries'] == 'yes'])\n",
    "Hospital_Libraries_Count = len(data.hospital_libraries[data['hospital_libraries'] == 'yes'])\n",
    "NLM_Resources_Count = len(data.nlm_resources[data['nlm_resources'] == 'yes'])\n",
    "Public_Health_Count= len(data.public_health[data['public_health'] == 'yes'])\n",
    "Public_Libraries_Count = len(data.public_libraries[data['public_libraries'] == 'yes'])\n",
    "Pubmed_Count = len(data.pubmed[data['pubmed'] == 'yes'])\n",
    "RDM_Count = len(data.rdm[data['rdm'] == 'yes'])\n"
   ]
  },
  {
   "cell_type": "code",
   "execution_count": null,
   "metadata": {},
   "outputs": [],
   "source": []
  },
  {
   "cell_type": "code",
   "execution_count": 329,
   "metadata": {},
   "outputs": [],
   "source": [
    "import matplotlib\n",
    "import matplotlib.pyplot as plt\n",
    "\n",
    "from IPython import display\n",
    "from ipywidgets import interact, widgets\n",
    "\n",
    "%matplotlib inline"
   ]
  },
  {
   "cell_type": "code",
   "execution_count": 336,
   "metadata": {},
   "outputs": [],
   "source": [
    "class_category = [AoU_Count, Bioinformatics_Count, Community_Engagement_Outreach_Count, Consumer_Health_Count,\n",
    "                  General_Public_Count, Health_Care_Providers_Count, Health_Science_Libraries_Count,\n",
    "                  Hospital_Libraries_Count, NLM_Resources_Count, Public_Health_Count, Public_Libraries_Count,\n",
    "                  Pubmed_Count, RDM_Count]"
   ]
  },
  {
   "cell_type": "code",
   "execution_count": 337,
   "metadata": {},
   "outputs": [
    {
     "data": {
      "text/plain": [
       "[5, 2, 15, 25, 7, 10, 16, 16, 22, 17, 21, 7, 11]"
      ]
     },
     "execution_count": 337,
     "metadata": {},
     "output_type": "execute_result"
    }
   ],
   "source": [
    "class_category"
   ]
  },
  {
   "cell_type": "code",
   "execution_count": null,
   "metadata": {},
   "outputs": [],
   "source": []
  }
 ],
 "metadata": {
  "kernelspec": {
   "display_name": "Python 3",
   "language": "python",
   "name": "python3"
  },
  "language_info": {
   "codemirror_mode": {
    "name": "ipython",
    "version": 3
   },
   "file_extension": ".py",
   "mimetype": "text/x-python",
   "name": "python",
   "nbconvert_exporter": "python",
   "pygments_lexer": "ipython3",
   "version": "3.7.3"
  }
 },
 "nbformat": 4,
 "nbformat_minor": 2
}
